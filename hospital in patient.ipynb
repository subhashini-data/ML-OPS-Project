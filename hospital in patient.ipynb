{
 "cells": [
  {
   "cell_type": "code",
   "execution_count": 26,
   "metadata": {},
   "outputs": [],
   "source": [
    "import pandas as pd\n",
    "from pandas_profiling import ProfileReport\n",
    "import numpy as np"
   ]
  },
  {
   "cell_type": "code",
   "execution_count": null,
   "metadata": {},
   "outputs": [],
   "source": []
  },
  {
   "cell_type": "code",
   "execution_count": 3,
   "metadata": {},
   "outputs": [],
   "source": [
    "df = pd.read_csv(\"E:\\\\Make case studies\\\\Health care\\\\Hospital in out patient\\\\in out patient.csv\", \n",
    "                 delimiter=',')"
   ]
  },
  {
   "cell_type": "code",
   "execution_count": 6,
   "metadata": {},
   "outputs": [
    {
     "data": {
      "application/vnd.jupyter.widget-view+json": {
       "model_id": "42e7a50050444320b22b40ca6e7501b9",
       "version_major": 2,
       "version_minor": 0
      },
      "text/plain": [
       "HBox(children=(HTML(value='Summarize dataset'), FloatProgress(value=0.0, max=25.0), HTML(value='')))"
      ]
     },
     "metadata": {},
     "output_type": "display_data"
    },
    {
     "name": "stdout",
     "output_type": "stream",
     "text": [
      "\n"
     ]
    },
    {
     "data": {
      "application/vnd.jupyter.widget-view+json": {
       "model_id": "17a1dc0d9b6b4ff5897ab1c17fde1650",
       "version_major": 2,
       "version_minor": 0
      },
      "text/plain": [
       "HBox(children=(HTML(value='Generate report structure'), FloatProgress(value=0.0, max=1.0), HTML(value='')))"
      ]
     },
     "metadata": {},
     "output_type": "display_data"
    },
    {
     "name": "stdout",
     "output_type": "stream",
     "text": [
      "\n"
     ]
    },
    {
     "data": {
      "application/vnd.jupyter.widget-view+json": {
       "model_id": "cdd0d26c1f2745f2ad56415e70f3423c",
       "version_major": 2,
       "version_minor": 0
      },
      "text/plain": [
       "HBox(children=(HTML(value='Render HTML'), FloatProgress(value=0.0, max=1.0), HTML(value='')))"
      ]
     },
     "metadata": {},
     "output_type": "display_data"
    },
    {
     "name": "stdout",
     "output_type": "stream",
     "text": [
      "\n"
     ]
    },
    {
     "data": {
      "application/vnd.jupyter.widget-view+json": {
       "model_id": "4d25f69a5f9d41ce824163c835821bfc",
       "version_major": 2,
       "version_minor": 0
      },
      "text/plain": [
       "HBox(children=(HTML(value='Export report to file'), FloatProgress(value=0.0, max=1.0), HTML(value='')))"
      ]
     },
     "metadata": {},
     "output_type": "display_data"
    },
    {
     "name": "stdout",
     "output_type": "stream",
     "text": [
      "\n"
     ]
    }
   ],
   "source": [
    "#EDA using pandas-profiling\n",
    "profile = ProfileReport(df, explorative=True)\n",
    "#Saving results to a HTML file\n",
    "profile.to_file(\"E:\\\\Make case studies\\\\Health care\\\\Hospital in out patient\\\\output.html\")\n",
    "\n",
    "# Note : the profiling report outcomes should be considered to understand if the new data is similar to the old data \n"
   ]
  },
  {
   "cell_type": "code",
   "execution_count": 24,
   "metadata": {},
   "outputs": [
    {
     "data": {
      "text/html": [
       "<div>\n",
       "<style scoped>\n",
       "    .dataframe tbody tr th:only-of-type {\n",
       "        vertical-align: middle;\n",
       "    }\n",
       "\n",
       "    .dataframe tbody tr th {\n",
       "        vertical-align: top;\n",
       "    }\n",
       "\n",
       "    .dataframe thead th {\n",
       "        text-align: right;\n",
       "    }\n",
       "</style>\n",
       "<table border=\"1\" class=\"dataframe\">\n",
       "  <thead>\n",
       "    <tr style=\"text-align: right;\">\n",
       "      <th></th>\n",
       "      <th>HAEMATOCRIT</th>\n",
       "      <th>HAEMOGLOBINS</th>\n",
       "      <th>ERYTHROCYTE</th>\n",
       "      <th>LEUCOCYTE</th>\n",
       "      <th>THROMBOCYTE</th>\n",
       "      <th>MCH</th>\n",
       "      <th>MCHC</th>\n",
       "      <th>MCV</th>\n",
       "      <th>AGE</th>\n",
       "      <th>SEX</th>\n",
       "      <th>SOURCE</th>\n",
       "    </tr>\n",
       "  </thead>\n",
       "  <tbody>\n",
       "    <tr>\n",
       "      <th>0</th>\n",
       "      <td>35.1</td>\n",
       "      <td>11.8</td>\n",
       "      <td>4.65</td>\n",
       "      <td>6.3</td>\n",
       "      <td>310</td>\n",
       "      <td>25.4</td>\n",
       "      <td>33.6</td>\n",
       "      <td>75.5</td>\n",
       "      <td>1</td>\n",
       "      <td>F</td>\n",
       "      <td>out</td>\n",
       "    </tr>\n",
       "    <tr>\n",
       "      <th>1</th>\n",
       "      <td>43.5</td>\n",
       "      <td>14.8</td>\n",
       "      <td>5.39</td>\n",
       "      <td>12.7</td>\n",
       "      <td>334</td>\n",
       "      <td>27.5</td>\n",
       "      <td>34.0</td>\n",
       "      <td>80.7</td>\n",
       "      <td>1</td>\n",
       "      <td>F</td>\n",
       "      <td>out</td>\n",
       "    </tr>\n",
       "    <tr>\n",
       "      <th>2</th>\n",
       "      <td>33.5</td>\n",
       "      <td>11.3</td>\n",
       "      <td>4.74</td>\n",
       "      <td>13.2</td>\n",
       "      <td>305</td>\n",
       "      <td>23.8</td>\n",
       "      <td>33.7</td>\n",
       "      <td>70.7</td>\n",
       "      <td>1</td>\n",
       "      <td>F</td>\n",
       "      <td>out</td>\n",
       "    </tr>\n",
       "    <tr>\n",
       "      <th>3</th>\n",
       "      <td>39.1</td>\n",
       "      <td>13.7</td>\n",
       "      <td>4.98</td>\n",
       "      <td>10.5</td>\n",
       "      <td>366</td>\n",
       "      <td>27.5</td>\n",
       "      <td>35.0</td>\n",
       "      <td>78.5</td>\n",
       "      <td>1</td>\n",
       "      <td>F</td>\n",
       "      <td>out</td>\n",
       "    </tr>\n",
       "    <tr>\n",
       "      <th>4</th>\n",
       "      <td>30.9</td>\n",
       "      <td>9.9</td>\n",
       "      <td>4.23</td>\n",
       "      <td>22.1</td>\n",
       "      <td>333</td>\n",
       "      <td>23.4</td>\n",
       "      <td>32.0</td>\n",
       "      <td>73.0</td>\n",
       "      <td>1</td>\n",
       "      <td>M</td>\n",
       "      <td>out</td>\n",
       "    </tr>\n",
       "  </tbody>\n",
       "</table>\n",
       "</div>"
      ],
      "text/plain": [
       "   HAEMATOCRIT  HAEMOGLOBINS  ERYTHROCYTE  LEUCOCYTE  THROMBOCYTE   MCH  MCHC  \\\n",
       "0         35.1          11.8         4.65        6.3          310  25.4  33.6   \n",
       "1         43.5          14.8         5.39       12.7          334  27.5  34.0   \n",
       "2         33.5          11.3         4.74       13.2          305  23.8  33.7   \n",
       "3         39.1          13.7         4.98       10.5          366  27.5  35.0   \n",
       "4         30.9           9.9         4.23       22.1          333  23.4  32.0   \n",
       "\n",
       "    MCV  AGE SEX SOURCE  \n",
       "0  75.5    1   F    out  \n",
       "1  80.7    1   F    out  \n",
       "2  70.7    1   F    out  \n",
       "3  78.5    1   F    out  \n",
       "4  73.0    1   M    out  "
      ]
     },
     "execution_count": 24,
     "metadata": {},
     "output_type": "execute_result"
    }
   ],
   "source": [
    "df.head()\n"
   ]
  },
  {
   "cell_type": "code",
   "execution_count": 28,
   "metadata": {},
   "outputs": [
    {
     "data": {
      "text/plain": [
       "0    2628\n",
       "1    1784\n",
       "Name: y, dtype: int64"
      ]
     },
     "execution_count": 28,
     "metadata": {},
     "output_type": "execute_result"
    }
   ],
   "source": [
    "# create a list of our conditions\n",
    "conditions = [\n",
    "    (df['SOURCE'] =='out'),\n",
    "    (df['SOURCE'] =='in')\n",
    "    ]\n",
    "# create a list of the values we want to assign for each condition\n",
    "################ PREDICT FOR In = 1 Out = 0\n",
    "values = ['0', '1']\n",
    "# create a new column and use np.select to assign values to it using our lists as arguments\n",
    "df['y'] = np.select(conditions, values)\n",
    "# display updated DataFrame\n",
    "\n",
    "df.groupby('y').count()\n",
    "# convert y into numeric\n",
    "df['y'] = df.y.astype(np.int64) \n",
    "df.dtypes\n",
    "\n",
    "df[\"y\"].value_counts()\n"
   ]
  },
  {
   "cell_type": "code",
   "execution_count": 57,
   "metadata": {},
   "outputs": [
    {
     "data": {
      "text/plain": [
       "1    2290\n",
       "0    2122\n",
       "Name: gender, dtype: int64"
      ]
     },
     "execution_count": 57,
     "metadata": {},
     "output_type": "execute_result"
    }
   ],
   "source": [
    "# create a list of our conditions\n",
    "conditions = [\n",
    "    (df['SEX'] =='F'),\n",
    "    (df['SEX'] =='M')\n",
    "    ]\n",
    "# create a list of the values we want to assign for each condition\n",
    "\n",
    "values = ['0', '1']\n",
    "# create a new column and use np.select to assign values to it using our lists as arguments\n",
    "df['gender'] = np.select(conditions, values)\n",
    "# display updated DataFrame\n",
    "df.head()\n",
    "# convert y into numeric\n",
    "df['gender'] = df.gender.astype(np.int64) \n",
    "df.dtypes\n",
    "\n",
    "df[\"gender\"].value_counts()\n"
   ]
  },
  {
   "cell_type": "code",
   "execution_count": null,
   "metadata": {},
   "outputs": [],
   "source": []
  },
  {
   "cell_type": "code",
   "execution_count": 58,
   "metadata": {},
   "outputs": [
    {
     "data": {
      "text/plain": [
       "HAEMATOCRIT     0\n",
       "HAEMOGLOBINS    0\n",
       "ERYTHROCYTE     0\n",
       "LEUCOCYTE       0\n",
       "THROMBOCYTE     0\n",
       "MCH             0\n",
       "MCHC            0\n",
       "MCV             0\n",
       "AGE             0\n",
       "SEX             0\n",
       "SOURCE          0\n",
       "y               0\n",
       "gender          0\n",
       "dtype: int64"
      ]
     },
     "execution_count": 58,
     "metadata": {},
     "output_type": "execute_result"
    }
   ],
   "source": [
    "# check for missing values\n",
    "df4= df\n",
    "df4.isnull().sum()\n"
   ]
  },
  {
   "cell_type": "code",
   "execution_count": 59,
   "metadata": {},
   "outputs": [
    {
     "data": {
      "text/plain": [
       "0    2628\n",
       "1    1784\n",
       "Name: y, dtype: int64"
      ]
     },
     "execution_count": 59,
     "metadata": {},
     "output_type": "execute_result"
    }
   ],
   "source": [
    "# code to drop missing values - not required in this data set\n",
    "limitPer = len(df4) * .80\n",
    "df4 = df4.dropna(thresh=limitPer, axis=1)\n",
    "df4[\"y\"].value_counts()"
   ]
  },
  {
   "cell_type": "code",
   "execution_count": 60,
   "metadata": {},
   "outputs": [
    {
     "data": {
      "text/plain": [
       "['HAEMATOCRIT',\n",
       " 'HAEMOGLOBINS',\n",
       " 'ERYTHROCYTE',\n",
       " 'LEUCOCYTE',\n",
       " 'THROMBOCYTE',\n",
       " 'MCH',\n",
       " 'MCHC',\n",
       " 'MCV',\n",
       " 'AGE',\n",
       " 'y',\n",
       " 'gender']"
      ]
     },
     "execution_count": 60,
     "metadata": {},
     "output_type": "execute_result"
    }
   ],
   "source": [
    "\n",
    "\n",
    "numeric_cols = list(df4.dtypes[df4.dtypes != 'object'].index)\n",
    "\n",
    "numeric_cols\n",
    "#df4.loc[:,numeric_cols] = scaler.fit_transform(df4.loc[:,numeric_cols])\n",
    "\n",
    "#df4.shape"
   ]
  },
  {
   "cell_type": "code",
   "execution_count": null,
   "metadata": {},
   "outputs": [],
   "source": []
  },
  {
   "cell_type": "code",
   "execution_count": 61,
   "metadata": {},
   "outputs": [
    {
     "data": {
      "text/html": [
       "<div>\n",
       "<style scoped>\n",
       "    .dataframe tbody tr th:only-of-type {\n",
       "        vertical-align: middle;\n",
       "    }\n",
       "\n",
       "    .dataframe tbody tr th {\n",
       "        vertical-align: top;\n",
       "    }\n",
       "\n",
       "    .dataframe thead th {\n",
       "        text-align: right;\n",
       "    }\n",
       "</style>\n",
       "<table border=\"1\" class=\"dataframe\">\n",
       "  <thead>\n",
       "    <tr style=\"text-align: right;\">\n",
       "      <th></th>\n",
       "      <th>HAEMATOCRIT</th>\n",
       "      <th>HAEMOGLOBINS</th>\n",
       "      <th>ERYTHROCYTE</th>\n",
       "      <th>LEUCOCYTE</th>\n",
       "      <th>THROMBOCYTE</th>\n",
       "      <th>MCH</th>\n",
       "      <th>MCHC</th>\n",
       "      <th>MCV</th>\n",
       "      <th>AGE</th>\n",
       "      <th>y</th>\n",
       "      <th>gender</th>\n",
       "    </tr>\n",
       "  </thead>\n",
       "  <tbody>\n",
       "    <tr>\n",
       "      <th>0</th>\n",
       "      <td>35.1</td>\n",
       "      <td>11.8</td>\n",
       "      <td>4.65</td>\n",
       "      <td>6.3</td>\n",
       "      <td>310</td>\n",
       "      <td>25.4</td>\n",
       "      <td>33.6</td>\n",
       "      <td>75.5</td>\n",
       "      <td>1</td>\n",
       "      <td>0</td>\n",
       "      <td>0</td>\n",
       "    </tr>\n",
       "    <tr>\n",
       "      <th>1</th>\n",
       "      <td>43.5</td>\n",
       "      <td>14.8</td>\n",
       "      <td>5.39</td>\n",
       "      <td>12.7</td>\n",
       "      <td>334</td>\n",
       "      <td>27.5</td>\n",
       "      <td>34.0</td>\n",
       "      <td>80.7</td>\n",
       "      <td>1</td>\n",
       "      <td>0</td>\n",
       "      <td>0</td>\n",
       "    </tr>\n",
       "    <tr>\n",
       "      <th>2</th>\n",
       "      <td>33.5</td>\n",
       "      <td>11.3</td>\n",
       "      <td>4.74</td>\n",
       "      <td>13.2</td>\n",
       "      <td>305</td>\n",
       "      <td>23.8</td>\n",
       "      <td>33.7</td>\n",
       "      <td>70.7</td>\n",
       "      <td>1</td>\n",
       "      <td>0</td>\n",
       "      <td>0</td>\n",
       "    </tr>\n",
       "    <tr>\n",
       "      <th>3</th>\n",
       "      <td>39.1</td>\n",
       "      <td>13.7</td>\n",
       "      <td>4.98</td>\n",
       "      <td>10.5</td>\n",
       "      <td>366</td>\n",
       "      <td>27.5</td>\n",
       "      <td>35.0</td>\n",
       "      <td>78.5</td>\n",
       "      <td>1</td>\n",
       "      <td>0</td>\n",
       "      <td>0</td>\n",
       "    </tr>\n",
       "    <tr>\n",
       "      <th>4</th>\n",
       "      <td>30.9</td>\n",
       "      <td>9.9</td>\n",
       "      <td>4.23</td>\n",
       "      <td>22.1</td>\n",
       "      <td>333</td>\n",
       "      <td>23.4</td>\n",
       "      <td>32.0</td>\n",
       "      <td>73.0</td>\n",
       "      <td>1</td>\n",
       "      <td>0</td>\n",
       "      <td>1</td>\n",
       "    </tr>\n",
       "  </tbody>\n",
       "</table>\n",
       "</div>"
      ],
      "text/plain": [
       "   HAEMATOCRIT  HAEMOGLOBINS  ERYTHROCYTE  LEUCOCYTE  THROMBOCYTE   MCH  MCHC  \\\n",
       "0         35.1          11.8         4.65        6.3          310  25.4  33.6   \n",
       "1         43.5          14.8         5.39       12.7          334  27.5  34.0   \n",
       "2         33.5          11.3         4.74       13.2          305  23.8  33.7   \n",
       "3         39.1          13.7         4.98       10.5          366  27.5  35.0   \n",
       "4         30.9           9.9         4.23       22.1          333  23.4  32.0   \n",
       "\n",
       "    MCV  AGE  y  gender  \n",
       "0  75.5    1  0       0  \n",
       "1  80.7    1  0       0  \n",
       "2  70.7    1  0       0  \n",
       "3  78.5    1  0       0  \n",
       "4  73.0    1  0       1  "
      ]
     },
     "execution_count": 61,
     "metadata": {},
     "output_type": "execute_result"
    }
   ],
   "source": [
    "# Remove column name 'A'\n",
    "df5=df4.drop(['SEX','SOURCE'], axis=1)\n",
    "df5.head()\n"
   ]
  },
  {
   "cell_type": "code",
   "execution_count": 66,
   "metadata": {},
   "outputs": [],
   "source": [
    "#split into x, y\n",
    "# do for x\n",
    "\n",
    "df5y = df5['y']\n",
    "\n",
    "x_data = df5.drop('y', axis = 1)"
   ]
  },
  {
   "cell_type": "code",
   "execution_count": 67,
   "metadata": {},
   "outputs": [
    {
     "name": "stderr",
     "output_type": "stream",
     "text": [
      "C:\\Users\\Acer\\anaconda3\\lib\\site-packages\\sklearn\\base.py:450: UserWarning:\n",
      "\n",
      "X does not have valid feature names, but StandardScaler was fitted with feature names\n",
      "\n"
     ]
    },
    {
     "data": {
      "text/html": [
       "<div>\n",
       "<style scoped>\n",
       "    .dataframe tbody tr th:only-of-type {\n",
       "        vertical-align: middle;\n",
       "    }\n",
       "\n",
       "    .dataframe tbody tr th {\n",
       "        vertical-align: top;\n",
       "    }\n",
       "\n",
       "    .dataframe thead th {\n",
       "        text-align: right;\n",
       "    }\n",
       "</style>\n",
       "<table border=\"1\" class=\"dataframe\">\n",
       "  <thead>\n",
       "    <tr style=\"text-align: right;\">\n",
       "      <th></th>\n",
       "      <th>HAEMATOCRIT</th>\n",
       "      <th>HAEMOGLOBINS</th>\n",
       "      <th>ERYTHROCYTE</th>\n",
       "      <th>LEUCOCYTE</th>\n",
       "      <th>THROMBOCYTE</th>\n",
       "      <th>MCH</th>\n",
       "      <th>MCHC</th>\n",
       "      <th>MCV</th>\n",
       "      <th>AGE</th>\n",
       "      <th>gender</th>\n",
       "    </tr>\n",
       "  </thead>\n",
       "  <tbody>\n",
       "    <tr>\n",
       "      <th>0</th>\n",
       "      <td>-0.518519</td>\n",
       "      <td>-0.452826</td>\n",
       "      <td>0.138698</td>\n",
       "      <td>-0.479078</td>\n",
       "      <td>0.460475</td>\n",
       "      <td>-1.060757</td>\n",
       "      <td>0.209160</td>\n",
       "      <td>-1.328742</td>\n",
       "      <td>-2.09982</td>\n",
       "      <td>-1.038831</td>\n",
       "    </tr>\n",
       "    <tr>\n",
       "      <th>1</th>\n",
       "      <td>0.887549</td>\n",
       "      <td>0.989713</td>\n",
       "      <td>1.082573</td>\n",
       "      <td>0.788634</td>\n",
       "      <td>0.671077</td>\n",
       "      <td>-0.274928</td>\n",
       "      <td>0.534754</td>\n",
       "      <td>-0.570539</td>\n",
       "      <td>-2.09982</td>\n",
       "      <td>-1.038831</td>\n",
       "    </tr>\n",
       "    <tr>\n",
       "      <th>2</th>\n",
       "      <td>-0.786341</td>\n",
       "      <td>-0.693249</td>\n",
       "      <td>0.253494</td>\n",
       "      <td>0.887673</td>\n",
       "      <td>0.416600</td>\n",
       "      <td>-1.659484</td>\n",
       "      <td>0.290558</td>\n",
       "      <td>-2.028621</td>\n",
       "      <td>-2.09982</td>\n",
       "      <td>-1.038831</td>\n",
       "    </tr>\n",
       "    <tr>\n",
       "      <th>3</th>\n",
       "      <td>0.151037</td>\n",
       "      <td>0.460782</td>\n",
       "      <td>0.559615</td>\n",
       "      <td>0.352858</td>\n",
       "      <td>0.951878</td>\n",
       "      <td>-0.274928</td>\n",
       "      <td>1.348738</td>\n",
       "      <td>-0.891317</td>\n",
       "      <td>-2.09982</td>\n",
       "      <td>-1.038831</td>\n",
       "    </tr>\n",
       "    <tr>\n",
       "      <th>4</th>\n",
       "      <td>-1.221553</td>\n",
       "      <td>-1.366434</td>\n",
       "      <td>-0.397014</td>\n",
       "      <td>2.650584</td>\n",
       "      <td>0.662302</td>\n",
       "      <td>-1.809166</td>\n",
       "      <td>-1.093215</td>\n",
       "      <td>-1.693263</td>\n",
       "      <td>-2.09982</td>\n",
       "      <td>0.962620</td>\n",
       "    </tr>\n",
       "  </tbody>\n",
       "</table>\n",
       "</div>"
      ],
      "text/plain": [
       "   HAEMATOCRIT  HAEMOGLOBINS  ERYTHROCYTE  LEUCOCYTE  THROMBOCYTE       MCH  \\\n",
       "0    -0.518519     -0.452826     0.138698  -0.479078     0.460475 -1.060757   \n",
       "1     0.887549      0.989713     1.082573   0.788634     0.671077 -0.274928   \n",
       "2    -0.786341     -0.693249     0.253494   0.887673     0.416600 -1.659484   \n",
       "3     0.151037      0.460782     0.559615   0.352858     0.951878 -0.274928   \n",
       "4    -1.221553     -1.366434    -0.397014   2.650584     0.662302 -1.809166   \n",
       "\n",
       "       MCHC       MCV      AGE    gender  \n",
       "0  0.209160 -1.328742 -2.09982 -1.038831  \n",
       "1  0.534754 -0.570539 -2.09982 -1.038831  \n",
       "2  0.290558 -2.028621 -2.09982 -1.038831  \n",
       "3  1.348738 -0.891317 -2.09982 -1.038831  \n",
       "4 -1.093215 -1.693263 -2.09982  0.962620  "
      ]
     },
     "execution_count": 67,
     "metadata": {},
     "output_type": "execute_result"
    }
   ],
   "source": [
    "\n",
    "\n",
    "from sklearn.preprocessing import StandardScaler\n",
    "  \n",
    "# Creating an instance of the sklearn.preprocessing.MinMaxScaler()\n",
    "scaler = StandardScaler()# z score\n",
    "  \n",
    "model = scaler.fit(x_data)\n",
    "scaled_df = model.transform(x_data.to_numpy(), )\n",
    "scaled_df\n",
    "df_scaled = pd.DataFrame(scaled_df, columns=['HAEMATOCRIT',\n",
    "                                              'HAEMOGLOBINS',\n",
    "                                              'ERYTHROCYTE',\n",
    "                                              'LEUCOCYTE',\n",
    "                                              'THROMBOCYTE',\n",
    "                                              'MCH',\n",
    "                                              'MCHC',\n",
    "                                              'MCV',\n",
    "                                              'AGE',\n",
    "                                              'gender'])\n",
    "df_scaled.head()\n"
   ]
  },
  {
   "cell_type": "code",
   "execution_count": 68,
   "metadata": {},
   "outputs": [
    {
     "data": {
      "text/html": [
       "<div>\n",
       "<style scoped>\n",
       "    .dataframe tbody tr th:only-of-type {\n",
       "        vertical-align: middle;\n",
       "    }\n",
       "\n",
       "    .dataframe tbody tr th {\n",
       "        vertical-align: top;\n",
       "    }\n",
       "\n",
       "    .dataframe thead th {\n",
       "        text-align: right;\n",
       "    }\n",
       "</style>\n",
       "<table border=\"1\" class=\"dataframe\">\n",
       "  <thead>\n",
       "    <tr style=\"text-align: right;\">\n",
       "      <th></th>\n",
       "      <th>HAEMATOCRIT</th>\n",
       "      <th>HAEMOGLOBINS</th>\n",
       "      <th>ERYTHROCYTE</th>\n",
       "      <th>LEUCOCYTE</th>\n",
       "      <th>THROMBOCYTE</th>\n",
       "      <th>MCH</th>\n",
       "      <th>MCHC</th>\n",
       "      <th>MCV</th>\n",
       "      <th>AGE</th>\n",
       "      <th>gender</th>\n",
       "    </tr>\n",
       "  </thead>\n",
       "  <tbody>\n",
       "    <tr>\n",
       "      <th>0</th>\n",
       "      <td>-0.518519</td>\n",
       "      <td>-0.452826</td>\n",
       "      <td>0.138698</td>\n",
       "      <td>-0.479078</td>\n",
       "      <td>0.460475</td>\n",
       "      <td>-1.060757</td>\n",
       "      <td>0.209160</td>\n",
       "      <td>-1.328742</td>\n",
       "      <td>-2.09982</td>\n",
       "      <td>-1.038831</td>\n",
       "    </tr>\n",
       "    <tr>\n",
       "      <th>1</th>\n",
       "      <td>0.887549</td>\n",
       "      <td>0.989713</td>\n",
       "      <td>1.082573</td>\n",
       "      <td>0.788634</td>\n",
       "      <td>0.671077</td>\n",
       "      <td>-0.274928</td>\n",
       "      <td>0.534754</td>\n",
       "      <td>-0.570539</td>\n",
       "      <td>-2.09982</td>\n",
       "      <td>-1.038831</td>\n",
       "    </tr>\n",
       "    <tr>\n",
       "      <th>2</th>\n",
       "      <td>-0.786341</td>\n",
       "      <td>-0.693249</td>\n",
       "      <td>0.253494</td>\n",
       "      <td>0.887673</td>\n",
       "      <td>0.416600</td>\n",
       "      <td>-1.659484</td>\n",
       "      <td>0.290558</td>\n",
       "      <td>-2.028621</td>\n",
       "      <td>-2.09982</td>\n",
       "      <td>-1.038831</td>\n",
       "    </tr>\n",
       "    <tr>\n",
       "      <th>3</th>\n",
       "      <td>0.151037</td>\n",
       "      <td>0.460782</td>\n",
       "      <td>0.559615</td>\n",
       "      <td>0.352858</td>\n",
       "      <td>0.951878</td>\n",
       "      <td>-0.274928</td>\n",
       "      <td>1.348738</td>\n",
       "      <td>-0.891317</td>\n",
       "      <td>-2.09982</td>\n",
       "      <td>-1.038831</td>\n",
       "    </tr>\n",
       "    <tr>\n",
       "      <th>4</th>\n",
       "      <td>-1.221553</td>\n",
       "      <td>-1.366434</td>\n",
       "      <td>-0.397014</td>\n",
       "      <td>2.650584</td>\n",
       "      <td>0.662302</td>\n",
       "      <td>-1.809166</td>\n",
       "      <td>-1.093215</td>\n",
       "      <td>-1.693263</td>\n",
       "      <td>-2.09982</td>\n",
       "      <td>0.962620</td>\n",
       "    </tr>\n",
       "  </tbody>\n",
       "</table>\n",
       "</div>"
      ],
      "text/plain": [
       "   HAEMATOCRIT  HAEMOGLOBINS  ERYTHROCYTE  LEUCOCYTE  THROMBOCYTE       MCH  \\\n",
       "0    -0.518519     -0.452826     0.138698  -0.479078     0.460475 -1.060757   \n",
       "1     0.887549      0.989713     1.082573   0.788634     0.671077 -0.274928   \n",
       "2    -0.786341     -0.693249     0.253494   0.887673     0.416600 -1.659484   \n",
       "3     0.151037      0.460782     0.559615   0.352858     0.951878 -0.274928   \n",
       "4    -1.221553     -1.366434    -0.397014   2.650584     0.662302 -1.809166   \n",
       "\n",
       "       MCHC       MCV      AGE    gender  \n",
       "0  0.209160 -1.328742 -2.09982 -1.038831  \n",
       "1  0.534754 -0.570539 -2.09982 -1.038831  \n",
       "2  0.290558 -2.028621 -2.09982 -1.038831  \n",
       "3  1.348738 -0.891317 -2.09982 -1.038831  \n",
       "4 -1.093215 -1.693263 -2.09982  0.962620  "
      ]
     },
     "execution_count": 68,
     "metadata": {},
     "output_type": "execute_result"
    }
   ],
   "source": [
    "df5x =df_scaled\n",
    "df5x.head()"
   ]
  },
  {
   "cell_type": "code",
   "execution_count": 70,
   "metadata": {},
   "outputs": [
    {
     "name": "stdout",
     "output_type": "stream",
     "text": [
      "length of oversampled data is  3730\n",
      "Number of Out in oversampled data 1865\n",
      "Number of In 1865\n",
      "Proportion of Out data in oversampled data is  0.5\n",
      "Proportion of In data in oversampled data is  0.5\n"
     ]
    },
    {
     "data": {
      "text/plain": [
       "1    1865\n",
       "0    1865\n",
       "Name: y, dtype: int64"
      ]
     },
     "execution_count": 70,
     "metadata": {},
     "output_type": "execute_result"
    }
   ],
   "source": [
    "from sklearn.model_selection import train_test_split\n",
    "\n",
    "x_train_1, x_test, y_train_1, y_test = train_test_split(df5x, df5y, test_size = 0.3)\n",
    "\n",
    "from imblearn.over_sampling import SMOTE\n",
    "os = SMOTE(random_state=0)\n",
    "columns = x_train_1.columns\n",
    "\n",
    "os_data_x,os_data_y=os.fit_sample(x_train_1, y_train_1)\n",
    "\n",
    "os_data_x = pd.DataFrame(data=os_data_x,columns=columns )\n",
    "\n",
    "os_data_y= pd.DataFrame(data=os_data_y,columns=['y'])\n",
    "# we can Check the numbers of our data \n",
    "# Out is 0 ; In is 1 \n",
    "\n",
    "print(\"length of oversampled data is \",len(os_data_x))\n",
    "print(\"Number of Out in oversampled data\",len(os_data_y[os_data_y['y']==0]))\n",
    "print(\"Number of In\",len(os_data_y[os_data_y['y']==1]))\n",
    "print(\"Proportion of Out data in oversampled data is \",len(os_data_y[os_data_y['y']==0])/len(os_data_x))\n",
    "print(\"Proportion of In data in oversampled data is \",len(os_data_y[os_data_y['y']==1])/len(os_data_x))\n",
    "\n",
    "  \n",
    "os_data_y[\"y\"].value_counts()"
   ]
  },
  {
   "cell_type": "code",
   "execution_count": 71,
   "metadata": {},
   "outputs": [],
   "source": [
    "x_train = os_data_x\n",
    "y_train = os_data_y"
   ]
  },
  {
   "cell_type": "code",
   "execution_count": 72,
   "metadata": {},
   "outputs": [],
   "source": [
    "# classification model \n",
    "#Decision Tree both for Regression and Classification\n",
    "#Decision Tree is a Supervised Machine Learning\n",
    "#the Decision Tree building is determined by:\n",
    "###The splitting criterion;\n",
    "###The stopping criterion;\n",
    "###The method for handling missing values;\n",
    "###The Pruning method.\n",
    "\n",
    "#########Decision Trees can handle missing values\n",
    "from sklearn.tree import DecisionTreeRegressor\n",
    "from sklearn.tree import DecisionTreeClassifier"
   ]
  },
  {
   "cell_type": "code",
   "execution_count": 73,
   "metadata": {},
   "outputs": [],
   "source": [
    "# Calculating Gini Impurity of a Pandas DataFrame Column\n",
    "def gini_impurity(column):\n",
    "    impurity = 1\n",
    "    counters = Counter(column)\n",
    "    for value in column.unique():\n",
    "        impurity -= (counters[value] / len(column)) ** 2\n",
    "\n",
    "    return impurity"
   ]
  },
  {
   "cell_type": "code",
   "execution_count": 75,
   "metadata": {},
   "outputs": [
    {
     "data": {
      "text/plain": [
       "1    1865\n",
       "0    1865\n",
       "Name: y, dtype: int64"
      ]
     },
     "execution_count": 75,
     "metadata": {},
     "output_type": "execute_result"
    }
   ],
   "source": [
    "clf_tree = DecisionTreeClassifier(criterion='gini', max_depth=4, random_state=1)\n",
    "\n",
    "clf_tree.fit(x_train, y_train)\n",
    "\n",
    "\n",
    "y_train[\"y\"].value_counts()\n",
    "#%pip install mlxtend"
   ]
  },
  {
   "cell_type": "code",
   "execution_count": 76,
   "metadata": {},
   "outputs": [
    {
     "data": {
      "text/plain": [
       "DecisionTreeClassifier()"
      ]
     },
     "execution_count": 76,
     "metadata": {},
     "output_type": "execute_result"
    }
   ],
   "source": [
    "# How to Import the DecisionTreeClassifer Class\n",
    "from sklearn.tree import DecisionTreeClassifier\n",
    "DecisionTreeClassifier(\n",
    "    criterion='gini', \n",
    "    splitter='best', \n",
    "    max_depth=None, \n",
    "    min_samples_split=2, \n",
    "    min_samples_leaf=1, \n",
    "    min_weight_fraction_leaf=0.0, \n",
    "    max_features=None, \n",
    "    random_state=None, \n",
    "    max_leaf_nodes=None, \n",
    "    min_impurity_decrease=0.0, \n",
    "    class_weight=None, \n",
    "    ccp_alpha=0.0\n",
    ")"
   ]
  },
  {
   "cell_type": "code",
   "execution_count": 77,
   "metadata": {},
   "outputs": [
    {
     "data": {
      "text/plain": [
       "DecisionTreeClassifier()"
      ]
     },
     "execution_count": 77,
     "metadata": {},
     "output_type": "execute_result"
    }
   ],
   "source": [
    "# Creating Our First Decision Tree Classifier\n",
    "from sklearn.tree import DecisionTreeClassifier\n",
    "clf = DecisionTreeClassifier()\n",
    "clf.fit(x_train, y_train)"
   ]
  },
  {
   "cell_type": "code",
   "execution_count": 87,
   "metadata": {},
   "outputs": [
    {
     "name": "stdout",
     "output_type": "stream",
     "text": [
      "[1 0 0 0 0 1 1 1 1 0]\n"
     ]
    }
   ],
   "source": [
    "# Making Predictions with Our Model\n",
    "predictions = clf.predict(x_test)\n",
    "y_pred_train=clf.predict(x_train)\n",
    "y_pred_df5=clf.predict(df5x)\n",
    "print(predictions[:10])\n"
   ]
  },
  {
   "cell_type": "code",
   "execution_count": null,
   "metadata": {},
   "outputs": [],
   "source": []
  },
  {
   "cell_type": "code",
   "execution_count": 88,
   "metadata": {},
   "outputs": [
    {
     "name": "stdout",
     "output_type": "stream",
     "text": [
      "Accuracy score train  : 1.0000\n",
      "Accuracy score test  : 0.6488\n",
      "Accuracy score df5  : 0.8946\n"
     ]
    }
   ],
   "source": [
    "# Measuring the accuracy of our model\n",
    "from sklearn.metrics import accuracy_score\n",
    "print('Accuracy score train  : {:.4f}'.format(accuracy_score(y_train, y_pred_train)))\n",
    "print('Accuracy score test  : {:.4f}'.format(accuracy_score(y_test, predictions)))\n",
    "print('Accuracy score df5  : {:.4f}'.format(accuracy_score(df5y, y_pred_df5)))\n"
   ]
  },
  {
   "cell_type": "code",
   "execution_count": 99,
   "metadata": {},
   "outputs": [
    {
     "name": "stdout",
     "output_type": "stream",
     "text": [
      "Fitting 5 folds for each of 168 candidates, totalling 840 fits\n",
      "{'criterion': 'entropy', 'max_depth': None, 'max_features': 0.8, 'splitter': 'random'}\n"
     ]
    }
   ],
   "source": [
    "# Creating a dictionary of parameters to use in GridSearchCV\n",
    "from sklearn.model_selection import GridSearchCV\n",
    "\n",
    "params = {\n",
    "    'criterion':  ['gini', 'entropy'],\n",
    "    'max_depth':  [None, 2, 4, 6, 8, 10],\n",
    "    'max_features': [None, 'sqrt', 'log2', 0.2, 0.4, 0.6, 0.8],\n",
    "    'splitter': ['best', 'random']\n",
    "}\n",
    "\n",
    "clf1 = GridSearchCV(\n",
    "    estimator=DecisionTreeClassifier(),\n",
    "    param_grid=params,\n",
    "    cv=5,\n",
    "    n_jobs=5,\n",
    "    verbose=1,\n",
    ")\n",
    "\n",
    "clf1.fit(x_train, y_train)\n",
    "print(clf1.best_params_)"
   ]
  },
  {
   "cell_type": "code",
   "execution_count": 90,
   "metadata": {},
   "outputs": [
    {
     "data": {
      "text/plain": [
       "{'criterion': 'entropy',\n",
       " 'max_depth': 5,\n",
       " 'max_features': 0.8,\n",
       " 'splitter': 'best'}"
      ]
     },
     "execution_count": 90,
     "metadata": {},
     "output_type": "execute_result"
    }
   ],
   "source": [
    "# The best parameters\n",
    "{\n",
    "    'criterion': 'entropy', \n",
    "    'max_depth': 5, \n",
    "    'max_features': 0.8, \n",
    "    'splitter': 'best'\n",
    "}"
   ]
  },
  {
   "cell_type": "code",
   "execution_count": 100,
   "metadata": {},
   "outputs": [
    {
     "name": "stdout",
     "output_type": "stream",
     "text": [
      "0.6978851963746223\n"
     ]
    }
   ],
   "source": [
    "clf1 = DecisionTreeClassifier(max_depth=4, criterion='entropy', max_features=0.8, splitter='best')\n",
    "clf1.fit(x_train, y_train)\n",
    "predictions = clf1.predict(x_test)\n",
    "print(accuracy_score(y_test, predictions))"
   ]
  },
  {
   "cell_type": "code",
   "execution_count": 101,
   "metadata": {},
   "outputs": [
    {
     "name": "stderr",
     "output_type": "stream",
     "text": [
      "<ipython-input-101-000538d6d041>:23: UserWarning:\n",
      "\n",
      "Matplotlib is currently using agg, which is a non-GUI backend, so cannot show the figure.\n",
      "\n"
     ]
    },
    {
     "data": {
      "image/png": "[encoded data removed]",
      "text/plain": [
       "<Figure size 2160x720 with 1 Axes>"
      ]
     },
     "metadata": {},
     "output_type": "display_data"
    }
   ],
   "source": [
    "#As a Tree Diagram\n",
    "feature_names = df5x.columns\n",
    "\n",
    "labels = df5y.unique().astype('str')\n",
    "from sklearn import tree\n",
    "\n",
    "import matplotlib.pyplot as plt\n",
    "\n",
    "plt.figure(figsize=(30,10), facecolor ='k')\n",
    "\n",
    "a = tree.plot_tree(clf1,\n",
    "\n",
    "                   feature_names = feature_names,\n",
    "\n",
    "                   class_names = labels,\n",
    "\n",
    "                   rounded = True,\n",
    "\n",
    "                   filled = True,\n",
    "\n",
    "                   fontsize=14)\n",
    "\n",
    "plt.show()"
   ]
  },
  {
   "cell_type": "code",
   "execution_count": 102,
   "metadata": {},
   "outputs": [
    {
     "name": "stdout",
     "output_type": "stream",
     "text": [
      "|--- THROMBOCYTE <= -0.79\n",
      "|   |--- THROMBOCYTE <= -1.22\n",
      "|   |   |--- MCV <= 1.75\n",
      "|   |   |   |--- MCHC <= 3.91\n",
      "|   |   |   |   |--- weights: [41.00, 422.00] class: 1\n",
      "|   |   |   |--- MCHC >  3.91\n",
      "|   |   |   |   |--- weights: [3.00, 0.00] class: 0\n",
      "|   |   |--- MCV >  1.75\n",
      "|   |   |   |--- weights: [5.00, 0.00] class: 0\n",
      "|   |--- THROMBOCYTE >  -1.22\n",
      "|   |   |--- ERYTHROCYTE <= 1.11\n",
      "|   |   |   |--- LEUCOCYTE <= -0.04\n",
      "|   |   |   |   |--- weights: [80.00, 142.00] class: 1\n",
      "|   |   |   |--- LEUCOCYTE >  -0.04\n",
      "|   |   |   |   |--- weights: [15.00, 99.00] class: 1\n",
      "|   |   |--- ERYTHROCYTE >  1.11\n",
      "|   |   |   |--- HAEMOGLOBINS <= 1.49\n",
      "|   |   |   |   |--- weights: [19.00, 14.00] class: 0\n",
      "|   |   |   |--- HAEMOGLOBINS >  1.49\n",
      "|   |   |   |   |--- weights: [10.00, 0.00] class: 0\n",
      "|--- THROMBOCYTE >  -0.79\n",
      "|   |--- HAEMOGLOBINS <= -0.50\n",
      "|   |   |--- AGE <= -0.24\n",
      "|   |   |   |--- AGE <= -2.08\n",
      "|   |   |   |   |--- weights: [11.00, 0.00] class: 0\n",
      "|   |   |   |--- AGE >  -2.08\n",
      "|   |   |   |   |--- weights: [132.00, 112.00] class: 0\n",
      "|   |   |--- AGE >  -0.24\n",
      "|   |   |   |--- LEUCOCYTE <= -0.17\n",
      "|   |   |   |   |--- weights: [89.00, 111.00] class: 1\n",
      "|   |   |   |--- LEUCOCYTE >  -0.17\n",
      "|   |   |   |   |--- weights: [92.00, 352.00] class: 1\n",
      "|   |--- HAEMOGLOBINS >  -0.50\n",
      "|   |   |--- LEUCOCYTE <= 0.53\n",
      "|   |   |   |--- HAEMATOCRIT <= 1.15\n",
      "|   |   |   |   |--- weights: [977.00, 413.00] class: 0\n",
      "|   |   |   |--- HAEMATOCRIT >  1.15\n",
      "|   |   |   |   |--- weights: [220.00, 28.00] class: 0\n",
      "|   |   |--- LEUCOCYTE >  0.53\n",
      "|   |   |   |--- ERYTHROCYTE <= 0.12\n",
      "|   |   |   |   |--- weights: [43.00, 98.00] class: 1\n",
      "|   |   |   |--- ERYTHROCYTE >  0.12\n",
      "|   |   |   |   |--- weights: [128.00, 74.00] class: 0\n",
      "\n"
     ]
    }
   ],
   "source": [
    "#As a Text-Based Diagram\n",
    "from sklearn.tree import export_text\n",
    "\n",
    "tree_rules = export_text(clf1,\n",
    "\n",
    "                        feature_names = list(feature_names),\n",
    "                        decimals=2, \n",
    "                        show_weights=True)\n",
    "\n",
    "print(tree_rules)"
   ]
  },
  {
   "cell_type": "code",
   "execution_count": 94,
   "metadata": {},
   "outputs": [],
   "source": []
  },
  {
   "cell_type": "code",
   "execution_count": 103,
   "metadata": {},
   "outputs": [
    {
     "data": {
      "text/html": [
       "<div>\n",
       "<style scoped>\n",
       "    .dataframe tbody tr th:only-of-type {\n",
       "        vertical-align: middle;\n",
       "    }\n",
       "\n",
       "    .dataframe tbody tr th {\n",
       "        vertical-align: top;\n",
       "    }\n",
       "\n",
       "    .dataframe thead th {\n",
       "        text-align: right;\n",
       "    }\n",
       "</style>\n",
       "<table border=\"1\" class=\"dataframe\">\n",
       "  <thead>\n",
       "    <tr style=\"text-align: right;\">\n",
       "      <th></th>\n",
       "      <th>0</th>\n",
       "      <th>1</th>\n",
       "    </tr>\n",
       "  </thead>\n",
       "  <tbody>\n",
       "    <tr>\n",
       "      <th>0</th>\n",
       "      <td>590</td>\n",
       "      <td>173</td>\n",
       "    </tr>\n",
       "    <tr>\n",
       "      <th>1</th>\n",
       "      <td>225</td>\n",
       "      <td>336</td>\n",
       "    </tr>\n",
       "  </tbody>\n",
       "</table>\n",
       "</div>"
      ],
      "text/plain": [
       "     0    1\n",
       "0  590  173\n",
       "1  225  336"
      ]
     },
     "execution_count": 103,
     "metadata": {},
     "output_type": "execute_result"
    }
   ],
   "source": [
    "from sklearn import metrics\n",
    "\n",
    "import seaborn as sns\n",
    "\n",
    "import matplotlib.pyplot as plt\n",
    "\n",
    "confusion_matrix = metrics.confusion_matrix(y_test,  \n",
    "\n",
    "                                        test_pred_decision_tree)\n",
    "\n",
    "matrix_df = pd.DataFrame(confusion_matrix)\n",
    "\n",
    "#ax = plt.axes()\n",
    "\n",
    "#sns.set(font_scale=1.3)\n",
    "\n",
    "#plt.figure(figsize=(10,7))\n",
    "\n",
    "#sns.heatmap(matrix_df, annot=True, fmt=\"g\", ax=ax, cmap=\"magma\")\n",
    "\n",
    "#ax.set_title('Confusion Matrix - Decision Tree')\n",
    "\n",
    "#ax.set_xlabel(\"Predicted label\", fontsize =15)\n",
    "\n",
    "#ax.set_xticklabels(['']+labels)\n",
    "\n",
    "#ax.set_ylabel(\"True Label\", fontsize=15)\n",
    "\n",
    "#ax.set_yticklabels(list(labels), rotation = 0)\n",
    "\n",
    "#plt.show()\n",
    "matrix_df"
   ]
  },
  {
   "cell_type": "code",
   "execution_count": 104,
   "metadata": {},
   "outputs": [
    {
     "name": "stdout",
     "output_type": "stream",
     "text": [
      "0.7379873073436083\n"
     ]
    }
   ],
   "source": [
    "# from df5 - this data was divided into df5x and df5y\n",
    "# this is validating on the total data \n",
    "\n",
    "clf1.fit(df5x, df5y)\n",
    "predictions = clf1.predict(df5x)\n",
    "print(accuracy_score(df5y, predictions))\n"
   ]
  },
  {
   "cell_type": "code",
   "execution_count": 105,
   "metadata": {},
   "outputs": [
    {
     "name": "stdout",
     "output_type": "stream",
     "text": [
      "ROC AUC_Model_train : 0.7802\n",
      "ROC AUC_Model_test : 0.7723\n",
      "ROC AUC_Model_df6 : 0.7820\n"
     ]
    }
   ],
   "source": [
    "# store the predicted probabilities for class 1 \n",
    "\n",
    "y_pred_train = clf.predict_proba(x_train)[:, 1] # Model classification\n",
    "y_pred_test = clf.predict_proba(x_test)[:, 1] # Model classification\n",
    "y_pred_data = clf.predict_proba(df5x)[:, 1] # Model classification\n",
    "\n",
    "from sklearn.metrics import roc_auc_score\n",
    "\n",
    "ROC_AUC = roc_auc_score(y_train, y_pred_train)\n",
    "\n",
    "print('ROC AUC_Model_train : {:.4f}'.format(ROC_AUC))\n",
    "\n",
    "ROC_AUC = roc_auc_score(y_test, y_pred_test)\n",
    "\n",
    "print('ROC AUC_Model_test : {:.4f}'.format(ROC_AUC))\n",
    "\n",
    "ROC_AUC = roc_auc_score(df5y, y_pred_data)\n",
    "\n",
    "print('ROC AUC_Model_df5 : {:.4f}'.format(ROC_AUC))"
   ]
  },
  {
   "cell_type": "code",
   "execution_count": 106,
   "metadata": {},
   "outputs": [
    {
     "name": "stdout",
     "output_type": "stream",
     "text": [
      "ROC AUC_Model1_train : 0.7718\n",
      "ROC AUC_Model1_test : 0.7601\n",
      "ROC AUC_Model1_df5 : 0.7710\n"
     ]
    }
   ],
   "source": [
    "# store the predicted probabilities for class 1 \n",
    "\n",
    "y_pred_train = clf1.predict_proba(x_train)[:, 1] # Model classification\n",
    "y_pred_test = clf1.predict_proba(x_test)[:, 1] # Model classification\n",
    "y_pred_data = clf1.predict_proba(df5x)[:, 1] # Model classification\n",
    "\n",
    "from sklearn.metrics import roc_auc_score\n",
    "\n",
    "ROC_AUC = roc_auc_score(y_train, y_pred_train)\n",
    "\n",
    "print('ROC AUC_Model1_train : {:.4f}'.format(ROC_AUC))\n",
    "\n",
    "ROC_AUC = roc_auc_score(y_test, y_pred_test)\n",
    "\n",
    "print('ROC AUC_Model1_test : {:.4f}'.format(ROC_AUC))\n",
    "\n",
    "ROC_AUC = roc_auc_score(df5y, y_pred_data)\n",
    "\n",
    "print('ROC AUC_Model1_df5 : {:.4f}'.format(ROC_AUC))"
   ]
  },
  {
   "cell_type": "code",
   "execution_count": null,
   "metadata": {},
   "outputs": [],
   "source": [
    "# choose model clf "
   ]
  },
  {
   "cell_type": "code",
   "execution_count": 107,
   "metadata": {},
   "outputs": [
    {
     "name": "stdout",
     "output_type": "stream",
     "text": [
      "[0 0 1 ... 0 1 0]\n",
      "[[0.71174377 0.28825623]\n",
      " [0.68       0.32      ]\n",
      " [0.47507331 0.52492669]\n",
      " ...\n",
      " [0.71174377 0.28825623]\n",
      " [0.28767123 0.71232877]\n",
      " [0.71174377 0.28825623]]\n"
     ]
    }
   ],
   "source": [
    "predictions = clf.predict(df5x)\n",
    "probabilities =clf.predict_proba(df5x)\n",
    "\n",
    "print (predictions)\n",
    "print (probabilities)"
   ]
  },
  {
   "cell_type": "code",
   "execution_count": 108,
   "metadata": {},
   "outputs": [
    {
     "data": {
      "text/html": [
       "<div>\n",
       "<style scoped>\n",
       "    .dataframe tbody tr th:only-of-type {\n",
       "        vertical-align: middle;\n",
       "    }\n",
       "\n",
       "    .dataframe tbody tr th {\n",
       "        vertical-align: top;\n",
       "    }\n",
       "\n",
       "    .dataframe thead th {\n",
       "        text-align: right;\n",
       "    }\n",
       "</style>\n",
       "<table border=\"1\" class=\"dataframe\">\n",
       "  <thead>\n",
       "    <tr style=\"text-align: right;\">\n",
       "      <th></th>\n",
       "      <th>HAEMATOCRIT</th>\n",
       "      <th>HAEMOGLOBINS</th>\n",
       "      <th>ERYTHROCYTE</th>\n",
       "      <th>LEUCOCYTE</th>\n",
       "      <th>THROMBOCYTE</th>\n",
       "      <th>MCH</th>\n",
       "      <th>MCHC</th>\n",
       "      <th>MCV</th>\n",
       "      <th>AGE</th>\n",
       "      <th>gender</th>\n",
       "      <th>predictions</th>\n",
       "      <th>probabilities</th>\n",
       "      <th>prob_1</th>\n",
       "      <th>prob_0</th>\n",
       "    </tr>\n",
       "  </thead>\n",
       "  <tbody>\n",
       "    <tr>\n",
       "      <th>0</th>\n",
       "      <td>-0.518519</td>\n",
       "      <td>-0.452826</td>\n",
       "      <td>0.138698</td>\n",
       "      <td>-0.479078</td>\n",
       "      <td>0.460475</td>\n",
       "      <td>-1.060757</td>\n",
       "      <td>0.209160</td>\n",
       "      <td>-1.328742</td>\n",
       "      <td>-2.09982</td>\n",
       "      <td>-1.038831</td>\n",
       "      <td>0</td>\n",
       "      <td>[0.7117437722419929, 0.28825622775800713]</td>\n",
       "      <td>0.711744</td>\n",
       "      <td>0.288256</td>\n",
       "    </tr>\n",
       "    <tr>\n",
       "      <th>1</th>\n",
       "      <td>0.887549</td>\n",
       "      <td>0.989713</td>\n",
       "      <td>1.082573</td>\n",
       "      <td>0.788634</td>\n",
       "      <td>0.671077</td>\n",
       "      <td>-0.274928</td>\n",
       "      <td>0.534754</td>\n",
       "      <td>-0.570539</td>\n",
       "      <td>-2.09982</td>\n",
       "      <td>-1.038831</td>\n",
       "      <td>0</td>\n",
       "      <td>[0.68, 0.32]</td>\n",
       "      <td>0.680000</td>\n",
       "      <td>0.320000</td>\n",
       "    </tr>\n",
       "    <tr>\n",
       "      <th>2</th>\n",
       "      <td>-0.786341</td>\n",
       "      <td>-0.693249</td>\n",
       "      <td>0.253494</td>\n",
       "      <td>0.887673</td>\n",
       "      <td>0.416600</td>\n",
       "      <td>-1.659484</td>\n",
       "      <td>0.290558</td>\n",
       "      <td>-2.028621</td>\n",
       "      <td>-2.09982</td>\n",
       "      <td>-1.038831</td>\n",
       "      <td>1</td>\n",
       "      <td>[0.4750733137829912, 0.5249266862170088]</td>\n",
       "      <td>0.475073</td>\n",
       "      <td>0.524927</td>\n",
       "    </tr>\n",
       "    <tr>\n",
       "      <th>3</th>\n",
       "      <td>0.151037</td>\n",
       "      <td>0.460782</td>\n",
       "      <td>0.559615</td>\n",
       "      <td>0.352858</td>\n",
       "      <td>0.951878</td>\n",
       "      <td>-0.274928</td>\n",
       "      <td>1.348738</td>\n",
       "      <td>-0.891317</td>\n",
       "      <td>-2.09982</td>\n",
       "      <td>-1.038831</td>\n",
       "      <td>0</td>\n",
       "      <td>[0.772239263803681, 0.227760736196319]</td>\n",
       "      <td>0.772239</td>\n",
       "      <td>0.227761</td>\n",
       "    </tr>\n",
       "    <tr>\n",
       "      <th>4</th>\n",
       "      <td>-1.221553</td>\n",
       "      <td>-1.366434</td>\n",
       "      <td>-0.397014</td>\n",
       "      <td>2.650584</td>\n",
       "      <td>0.662302</td>\n",
       "      <td>-1.809166</td>\n",
       "      <td>-1.093215</td>\n",
       "      <td>-1.693263</td>\n",
       "      <td>-2.09982</td>\n",
       "      <td>0.962620</td>\n",
       "      <td>1</td>\n",
       "      <td>[0.2876712328767123, 0.7123287671232876]</td>\n",
       "      <td>0.287671</td>\n",
       "      <td>0.712329</td>\n",
       "    </tr>\n",
       "  </tbody>\n",
       "</table>\n",
       "</div>"
      ],
      "text/plain": [
       "   HAEMATOCRIT  HAEMOGLOBINS  ERYTHROCYTE  LEUCOCYTE  THROMBOCYTE       MCH  \\\n",
       "0    -0.518519     -0.452826     0.138698  -0.479078     0.460475 -1.060757   \n",
       "1     0.887549      0.989713     1.082573   0.788634     0.671077 -0.274928   \n",
       "2    -0.786341     -0.693249     0.253494   0.887673     0.416600 -1.659484   \n",
       "3     0.151037      0.460782     0.559615   0.352858     0.951878 -0.274928   \n",
       "4    -1.221553     -1.366434    -0.397014   2.650584     0.662302 -1.809166   \n",
       "\n",
       "       MCHC       MCV      AGE    gender  predictions  \\\n",
       "0  0.209160 -1.328742 -2.09982 -1.038831            0   \n",
       "1  0.534754 -0.570539 -2.09982 -1.038831            0   \n",
       "2  0.290558 -2.028621 -2.09982 -1.038831            1   \n",
       "3  1.348738 -0.891317 -2.09982 -1.038831            0   \n",
       "4 -1.093215 -1.693263 -2.09982  0.962620            1   \n",
       "\n",
       "                               probabilities    prob_1    prob_0  \n",
       "0  [0.7117437722419929, 0.28825622775800713]  0.711744  0.288256  \n",
       "1                               [0.68, 0.32]  0.680000  0.320000  \n",
       "2   [0.4750733137829912, 0.5249266862170088]  0.475073  0.524927  \n",
       "3     [0.772239263803681, 0.227760736196319]  0.772239  0.227761  \n",
       "4   [0.2876712328767123, 0.7123287671232876]  0.287671  0.712329  "
      ]
     },
     "execution_count": 108,
     "metadata": {},
     "output_type": "execute_result"
    }
   ],
   "source": [
    "#import pandas as pd\n",
    "#import numpy as np\n",
    "x_data1 = pd.DataFrame(df5x)\n",
    "x_data1['predictions'] = predictions.tolist()\n",
    "x_data1['probabilities'] = probabilities.tolist()\n",
    "\n",
    "#column_series1 = pd.Series(predictions)\n",
    "#column_series2 = pd.Series(probabilities)\n",
    "x_data1.head()\n",
    "\n",
    "x_data1['prob_1'] = x_data1['probabilities'].str[0]\n",
    "x_data1['prob_0'] = x_data1['probabilities'].str[1]\n",
    "\n",
    "#x_data1.dtypes\n",
    "x_data1.head()\n",
    "# divide Prbabilities into 2 - for 0 and for 1 - column data = [0.2119205298013245, 0.788079470198675\n",
    "#x_data1['probabilities'].str.split(' ', n = 1, expand=True)"
   ]
  },
  {
   "cell_type": "code",
   "execution_count": 109,
   "metadata": {},
   "outputs": [],
   "source": [
    "x_data1.to_csv('E:\\\\Make case studies\\\\Health care\\\\Hospital in out patient\\\\Data_with_Prediction.csv', index = True)"
   ]
  },
  {
   "cell_type": "code",
   "execution_count": null,
   "metadata": {},
   "outputs": [],
   "source": []
  },
  {
   "cell_type": "code",
   "execution_count": null,
   "metadata": {},
   "outputs": [],
   "source": []
  },
  {
   "cell_type": "code",
   "execution_count": null,
   "metadata": {},
   "outputs": [],
   "source": []
  },
  {
   "cell_type": "code",
   "execution_count": null,
   "metadata": {},
   "outputs": [],
   "source": []
  },
  {
   "cell_type": "code",
   "execution_count": null,
   "metadata": {},
   "outputs": [],
   "source": []
  },
  {
   "cell_type": "code",
   "execution_count": null,
   "metadata": {},
   "outputs": [],
   "source": []
  },
  {
   "cell_type": "code",
   "execution_count": null,
   "metadata": {},
   "outputs": [],
   "source": []
  },
  {
   "cell_type": "code",
   "execution_count": null,
   "metadata": {},
   "outputs": [],
   "source": []
  },
  {
   "cell_type": "code",
   "execution_count": null,
   "metadata": {},
   "outputs": [],
   "source": []
  },
  {
   "cell_type": "code",
   "execution_count": null,
   "metadata": {},
   "outputs": [],
   "source": []
  },
  {
   "cell_type": "code",
   "execution_count": null,
   "metadata": {},
   "outputs": [],
   "source": []
  },
  {
   "cell_type": "code",
   "execution_count": null,
   "metadata": {},
   "outputs": [],
   "source": []
  },
  {
   "cell_type": "code",
   "execution_count": null,
   "metadata": {},
   "outputs": [],
   "source": []
  },
  {
   "cell_type": "code",
   "execution_count": null,
   "metadata": {},
   "outputs": [],
   "source": []
  },
  {
   "cell_type": "code",
   "execution_count": null,
   "metadata": {},
   "outputs": [],
   "source": []
  },
  {
   "cell_type": "code",
   "execution_count": null,
   "metadata": {},
   "outputs": [],
   "source": []
  },
  {
   "cell_type": "code",
   "execution_count": null,
   "metadata": {},
   "outputs": [],
   "source": []
  },
  {
   "cell_type": "code",
   "execution_count": null,
   "metadata": {},
   "outputs": [],
   "source": []
  },
  {
   "cell_type": "code",
   "execution_count": null,
   "metadata": {},
   "outputs": [],
   "source": []
  },
  {
   "cell_type": "code",
   "execution_count": null,
   "metadata": {},
   "outputs": [],
   "source": []
  },
  {
   "cell_type": "code",
   "execution_count": null,
   "metadata": {},
   "outputs": [],
   "source": []
  },
  {
   "cell_type": "code",
   "execution_count": null,
   "metadata": {},
   "outputs": [],
   "source": []
  },
  {
   "cell_type": "code",
   "execution_count": null,
   "metadata": {},
   "outputs": [],
   "source": []
  },
  {
   "cell_type": "code",
   "execution_count": null,
   "metadata": {},
   "outputs": [],
   "source": []
  },
  {
   "cell_type": "code",
   "execution_count": null,
   "metadata": {},
   "outputs": [],
   "source": []
  },
  {
   "cell_type": "code",
   "execution_count": null,
   "metadata": {},
   "outputs": [],
   "source": []
  },
  {
   "cell_type": "code",
   "execution_count": null,
   "metadata": {},
   "outputs": [],
   "source": []
  },
  {
   "cell_type": "code",
   "execution_count": null,
   "metadata": {},
   "outputs": [],
   "source": []
  },
  {
   "cell_type": "code",
   "execution_count": null,
   "metadata": {},
   "outputs": [],
   "source": []
  },
  {
   "cell_type": "code",
   "execution_count": null,
   "metadata": {},
   "outputs": [],
   "source": []
  },
  {
   "cell_type": "code",
   "execution_count": null,
   "metadata": {},
   "outputs": [],
   "source": []
  },
  {
   "cell_type": "code",
   "execution_count": null,
   "metadata": {},
   "outputs": [],
   "source": []
  },
  {
   "cell_type": "code",
   "execution_count": null,
   "metadata": {},
   "outputs": [],
   "source": []
  },
  {
   "cell_type": "code",
   "execution_count": null,
   "metadata": {},
   "outputs": [],
   "source": []
  },
  {
   "cell_type": "code",
   "execution_count": null,
   "metadata": {},
   "outputs": [],
   "source": []
  },
  {
   "cell_type": "code",
   "execution_count": null,
   "metadata": {},
   "outputs": [],
   "source": []
  },
  {
   "cell_type": "code",
   "execution_count": null,
   "metadata": {},
   "outputs": [],
   "source": []
  },
  {
   "cell_type": "code",
   "execution_count": null,
   "metadata": {},
   "outputs": [],
   "source": []
  }
 ],
 "metadata": {
  "kernelspec": {
   "display_name": "Python 3",
   "language": "python",
   "name": "python3"
  },
  "language_info": {
   "codemirror_mode": {
    "name": "ipython",
    "version": 3
   },
   "file_extension": ".py",
   "mimetype": "text/x-python",
   "name": "python",
   "nbconvert_exporter": "python",
   "pygments_lexer": "ipython3",
   "version": "3.8.5"
  }
 },
 "nbformat": 4,
 "nbformat_minor": 4
}
